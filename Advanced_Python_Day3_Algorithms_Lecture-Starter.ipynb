{
 "cells": [
  {
   "cell_type": "markdown",
   "metadata": {},
   "source": [
    "# Classic Algorithms"
   ]
  },
  {
   "cell_type": "markdown",
   "metadata": {},
   "source": [
    "## Tasks Today:\n",
    " \n",
    "1) <b>In-Place Algorithms</b> <br>\n",
    " &nbsp;&nbsp;&nbsp;&nbsp; a) Syntax <br>\n",
    " &nbsp;&nbsp;&nbsp;&nbsp; a) Out of Place Algorithm <br>\n",
    " &nbsp;&nbsp;&nbsp;&nbsp; b) In-Class Exercise #1 <br>\n",
    "2) <b>Two Pointers</b> <br>\n",
    "3) <b>Sorting Algorithms</b> <br>\n",
    "4) <b>Merge Sort</b> <br>\n",
    " &nbsp;&nbsp;&nbsp;&nbsp; a) Video on Algorithms <br>\n",
    " &nbsp;&nbsp;&nbsp;&nbsp; b) How it Works <br>\n",
    "5) <b>Exercises</b> <br>\n",
    " &nbsp;&nbsp;&nbsp;&nbsp; a) Exercise #1 - Reverse a List in Place Using an In-Place Algorithm <br>\n",
    " &nbsp;&nbsp;&nbsp;&nbsp; b) Exercise #2 - Find Distinct Words <br>\n",
    " &nbsp;&nbsp;&nbsp;&nbsp; c) Exercise #3 - Write a program to implement a Linear Search Algorithm. <br>"
   ]
  },
  {
   "cell_type": "markdown",
   "metadata": {},
   "source": [
    "## In-Place Algorithms"
   ]
  },
  {
   "cell_type": "code",
   "execution_count": 1,
   "metadata": {},
   "outputs": [
    {
     "name": "stdout",
     "output_type": "stream",
     "text": [
      "0\n",
      "0\n"
     ]
    }
   ],
   "source": [
    "# Constant Time - O(1)\n",
    "# The size of the input will not have an effect on O()\n",
    "def find_first_index(a_list):\n",
    "    return a_list[0]\n",
    "\n",
    "list1 = [i for i in range(10)]\n",
    "list2 = [i for i in range(100)]\n",
    "\n",
    "print(find_first_index(list1))\n",
    "print(find_first_index(list2))"
   ]
  },
  {
   "cell_type": "code",
   "execution_count": 3,
   "metadata": {
    "scrolled": true
   },
   "outputs": [
    {
     "name": "stdout",
     "output_type": "stream",
     "text": [
      "0\n",
      "1\n",
      "2\n",
      "3\n",
      "4\n",
      "5\n",
      "6\n",
      "7\n",
      "8\n",
      "9\n",
      "10\n",
      "0\n",
      "1\n",
      "2\n",
      "3\n",
      "4\n",
      "5\n",
      "6\n",
      "7\n",
      "8\n",
      "9\n",
      "10\n",
      "11\n",
      "12\n",
      "13\n",
      "14\n",
      "15\n",
      "16\n",
      "17\n",
      "18\n",
      "19\n",
      "20\n",
      "0\n",
      "1\n",
      "2\n",
      "3\n",
      "4\n",
      "5\n",
      "6\n",
      "7\n",
      "8\n",
      "9\n",
      "10\n",
      "11\n",
      "12\n",
      "13\n",
      "14\n",
      "15\n",
      "16\n",
      "17\n",
      "18\n",
      "19\n",
      "20\n",
      "21\n",
      "22\n",
      "23\n",
      "24\n",
      "25\n",
      "26\n",
      "27\n",
      "28\n",
      "29\n",
      "30\n"
     ]
    }
   ],
   "source": [
    "# Linear Time - O(n)\n",
    "# The size of the input has a leanr impact on the run time\n",
    "# As the N goes up, the more operations or loops we have to do and an increase at the same pace\n",
    "\n",
    "def count_operations(n):\n",
    "    num_operations = 0\n",
    "    for i in range(n):\n",
    "        print(i)\n",
    "        num_operations += 1\n",
    "    return num_operations\n",
    "\n",
    "print(count_operations(10))\n",
    "print(count_operations(20))\n",
    "print(count_operations(30))"
   ]
  },
  {
   "cell_type": "code",
   "execution_count": 6,
   "metadata": {},
   "outputs": [
    {
     "name": "stdout",
     "output_type": "stream",
     "text": [
      "0 0\n",
      "0 1\n",
      "0 2\n",
      "1 0\n",
      "1 1\n",
      "1 2\n",
      "2 0\n",
      "2 1\n",
      "2 2\n",
      "9\n"
     ]
    }
   ],
   "source": [
    "# Quadratic Time - O(n^2)\n",
    "# Operation runs at the squared size of the input data\n",
    "\n",
    "def count_operations(n):\n",
    "    num_operations = 0\n",
    "    for i in range(n):\n",
    "        for j in range(n):\n",
    "            print(i,j)\n",
    "            num_operations += 1\n",
    "    return num_operations\n",
    "\n",
    "print(count_operations(3))"
   ]
  },
  {
   "cell_type": "markdown",
   "metadata": {},
   "source": [
    "#### Syntax"
   ]
  },
  {
   "cell_type": "code",
   "execution_count": 8,
   "metadata": {},
   "outputs": [
    {
     "name": "stdout",
     "output_type": "stream",
     "text": [
      "1980783642112\n",
      "[1, 2, 3, 3, 3, 3, 4, 5, 6, 7, 7, 8]\n",
      "1980783642112\n",
      "[1, 2, 3, 3, 3, 3, 4, 5, 6, 7, 7, 8]\n",
      "1980783642112\n"
     ]
    }
   ],
   "source": [
    "my_list =[3, 5, 7, 8, 1, 2, 3, 4, 7, 3, 3, 6]\n",
    "print(id(my_list))\n",
    "\n",
    "def sort_my_list_in_place(a_list): # constant space O(1) - In place algorithm\n",
    "    a_list.sort()\n",
    "    return a_list\n",
    "\n",
    "def sort_my_list_out_place(a_list): # linear space O(n) - out of palce algorithims\n",
    "    return sorted(a_list)\n",
    "\n",
    "print(sort_my_list_in_place(my_list))\n",
    "print(id(my_list))\n",
    "print(sort_my_list_out_place(my_list))\n",
    "print(id(my_list))"
   ]
  },
  {
   "cell_type": "code",
   "execution_count": 27,
   "metadata": {},
   "outputs": [
    {
     "name": "stdout",
     "output_type": "stream",
     "text": [
      "before swap:  [1, 2, 3, 4, 5]\n",
      "after swap:  [5, 2, 3, 4, 1]\n"
     ]
    }
   ],
   "source": [
    "list1 = [1, 2, 3, 4, 5]\n",
    "def swap(a_list, index_a, index_b):\n",
    "    a_list[index_a] = a_list[index_b]\n",
    "    a_list[index_b] = a_list[index_a]\n",
    "    \n",
    "print(\"before swap: \", list1)\n",
    "swap(list1, 0, 4)\n",
    "print(\"after swap: \", list2)"
   ]
  },
  {
   "cell_type": "code",
   "execution_count": 32,
   "metadata": {},
   "outputs": [
    {
     "name": "stdout",
     "output_type": "stream",
     "text": [
      "before swap:  [1, 2, 3, 4, 5]\n",
      "after swap:  [5, 2, 3, 4, 1]\n"
     ]
    }
   ],
   "source": [
    "list1 = [1, 2, 3, 4, 5]\n",
    "def swap(a_list, index_a, index_b):\n",
    "    temp = a_list[index_a]\n",
    "    a_list[index_a] = a_list[index_b]\n",
    "    a_list[index_b] = temp\n",
    "# This is constant time\n",
    "\n",
    "print(\"before swap: \", list1)\n",
    "swap(list1, 0, 4)\n",
    "print(\"after swap: \", list1)"
   ]
  },
  {
   "cell_type": "code",
   "execution_count": 15,
   "metadata": {},
   "outputs": [
    {
     "name": "stdout",
     "output_type": "stream",
     "text": [
      "a 1\n",
      "b 2\n",
      "c 3\n"
     ]
    }
   ],
   "source": [
    "# a_list[a], a_list[b] = a_list[b], a_list[a]\n",
    "\n",
    "a, b, c = 1, 2, 3\n",
    "print(\"a\", a)\n",
    "print(\"b\", b)\n",
    "print(\"c\", c)"
   ]
  },
  {
   "cell_type": "code",
   "execution_count": 19,
   "metadata": {},
   "outputs": [
    {
     "name": "stdout",
     "output_type": "stream",
     "text": [
      "None\n",
      "[5, 2, 3, 4, 1]\n"
     ]
    }
   ],
   "source": [
    "list2 = [1, 2, 3, 4, 5]\n",
    "# swap using mutiple variable assignments\n",
    "def swap(a_list, index_a, index_b, index_c):\n",
    "    a_list[index_a], a_list[index_b], a_list[index_c] = a_list[index_c], a_list[index_b], a_list[index_a]\n",
    "    \n",
    "print(swap(list2, 0, 2, 4))\n",
    "print(list2)\n",
    "\n",
    "# Constant space for in place algorithms"
   ]
  },
  {
   "cell_type": "markdown",
   "metadata": {},
   "source": [
    "#### Out of Place Algorithm"
   ]
  },
  {
   "cell_type": "code",
   "execution_count": null,
   "metadata": {},
   "outputs": [],
   "source": [
    "def sort_my_list_out_place(a_list): # linear space O(n) - out of palce algorithims\n",
    "    return sorted(a_list)\n",
    "\n",
    "print(sort_my_list_in_place(my_list))\n",
    "print(id(my_list))"
   ]
  },
  {
   "cell_type": "code",
   "execution_count": 23,
   "metadata": {},
   "outputs": [
    {
     "name": "stdout",
     "output_type": "stream",
     "text": [
      "Before swap ['blue', 'orange', 'red', 'green', 'yellow', 'purple', 'pink', 'white', 'black', 'brown', 'magenta', 'silver', 'gold']\n",
      "After swap ['blue', 'orange', 'red', 'green', 'yellow', 'purple', 'pink', 'white', 'black', 'brown', 'magenta', 'silver', 'gold']\n",
      "New list ['blue', 'yellow', 'red', 'green', 'orange', 'purple', 'pink', 'white', 'black', 'brown', 'magenta', 'silver', 'gold']\n"
     ]
    }
   ],
   "source": [
    "def out_of_place_swap(original_list, index1, index2): # Linear Space O(n) and linear time O(n)\n",
    "    new_list = original_list[:] # slice from beginning to end\n",
    "    # set the value at index1 of the new lsit to the value of index2 of the original\n",
    "    new_list[index1] = original_list[index2]\n",
    "    # set the new list index to the value at the original index1\n",
    "    new_list[index2] = original_list[index1]\n",
    "    return new_list\n",
    "    \n",
    "list3 = ['blue', 'orange', 'red', 'green', 'yellow', 'purple', 'pink', 'white', 'black', 'brown', 'magenta', 'silver', 'gold']\n",
    "\n",
    "print('Before swap', list3)\n",
    "new_list = out_of_place_swap(list3, 1, 4)\n",
    "print('After swap', list3)\n",
    "print('New list', new_list)"
   ]
  },
  {
   "cell_type": "markdown",
   "metadata": {},
   "source": [
    "#### In-Class Exercise #1 <br>\n",
    "<p>Write a function that takes in four arguments (a_list, index1, index2, index3), and swaps those three positions in the list passed in.</p>"
   ]
  },
  {
   "cell_type": "code",
   "execution_count": 25,
   "metadata": {},
   "outputs": [
    {
     "name": "stdout",
     "output_type": "stream",
     "text": [
      "['hello', 'goodbye', 'bonjour', 'hola', 'adios']\n"
     ]
    }
   ],
   "source": [
    "def swap_three(a_list, a, b, c):\n",
    "    a_list[a], a_list[b], a_list[c] = a_list[c], a_list[b], a_list[a]\n",
    "    return a_list\n",
    "\n",
    "print(swap_three(['hello', 'goodbye', 'adios', 'hola', 'bonjour'], 2, 3, 4))\n",
    "#output: #['hello', 'goodbye', 'bonjour', 'hola', 'adios'], since the elements at index 2, 3, #and 4 (i.e. 'adios', 'hola', and 'bonjour') have been swapped."
   ]
  },
  {
   "cell_type": "markdown",
   "metadata": {},
   "source": [
    "## Two Pointers"
   ]
  },
  {
   "cell_type": "markdown",
   "metadata": {},
   "source": [
    "#### Syntax"
   ]
  },
  {
   "cell_type": "code",
   "execution_count": 33,
   "metadata": {},
   "outputs": [
    {
     "name": "stdout",
     "output_type": "stream",
     "text": [
      "[80, 70, 60, 50, 40, 30, 20, 10]\n"
     ]
    }
   ],
   "source": [
    "# This is an example of a list in place\n",
    "# Does not take any indices\n",
    "def reverse_in_place(a_list):\n",
    "    # Create two variables to point to the indicies we want to swap \n",
    "    left = 0 # First element of the list\n",
    "    right = len(a_list) - 1 # Last element in the list\n",
    "    while left < right: # Keep looping until the pointers land on each other or pass each other \n",
    "        # Swap those two positions\n",
    "        a_list[left], a_list[right] = a_list[right], a_list[left]\n",
    "        # Icrement one because the pointer moves forwards to the inside as it loops\n",
    "        left += 1\n",
    "        # Decrement one because the pointer moves backwards to the inside as it loops\n",
    "        right -= 1\n",
    "    return a_list\n",
    "\n",
    "some_list = [10, 20, 30, 40, 50, 60, 70, 80]\n",
    "\n",
    "reverse_in_place(some_list)\n",
    "print(some_list)\n",
    "        "
   ]
  },
  {
   "cell_type": "code",
   "execution_count": 35,
   "metadata": {},
   "outputs": [
    {
     "name": "stdout",
     "output_type": "stream",
     "text": [
      "1980783582272\n",
      "1980783611456\n",
      "[5, 4, 3, 2, 1]\n"
     ]
    }
   ],
   "source": [
    "# This is example of a list out of place\n",
    "my_list2 = [1, 2, 3, 4, 5]\n",
    "print(id(my_list2))\n",
    "\n",
    "my_list2 = my_list2[::-1]\n",
    "print(id(my_list2))\n",
    "print(my_list2)"
   ]
  },
  {
   "cell_type": "markdown",
   "metadata": {},
   "source": [
    "# Sorting Algorithms"
   ]
  },
  {
   "cell_type": "code",
   "execution_count": 45,
   "metadata": {},
   "outputs": [
    {
     "name": "stdout",
     "output_type": "stream",
     "text": [
      "[4, 45, 30, 34, 7, 39, 25, 31, 10, 43]\n"
     ]
    }
   ],
   "source": [
    "import random\n",
    "\n",
    "list_to_sort = [random.randint(1,50) for _ in range(10)]\n",
    "print(list_to_sort)"
   ]
  },
  {
   "cell_type": "markdown",
   "metadata": {},
   "source": [
    "#### Bubble Sort\n",
    "\n",
    "Worst Case: O(n^2) Time - O(1) Space"
   ]
  },
  {
   "cell_type": "code",
   "execution_count": 46,
   "metadata": {},
   "outputs": [
    {
     "name": "stdout",
     "output_type": "stream",
     "text": [
      "[4, 7, 10, 25, 30, 31, 34, 39, 43, 45]\n"
     ]
    }
   ],
   "source": [
    "def bubble_sort(lst):\n",
    "    # When we first start, assume the list isn't sorted\n",
    "    is_sorted = False\n",
    "    # While the list is not sorted, loop through and bubble the largest to the top\n",
    "    while not is_sorted:\n",
    "        # Begin the for loop with the assumption that the list is sorted\n",
    "        is_sorted = True\n",
    "        # Loop from the 0-index to the last-index -1\n",
    "        for idx in range(len(lst)-1):\n",
    "            # If the list at index idx is greater than the value to it's right, swap the two values\n",
    "            if lst[idx] > lst[idx+1]:\n",
    "                # Swap the two values\n",
    "                lst[idx], lst[idx+1] = lst[idx+1], lst[idx]\n",
    "                # If we do have a swap, it means our list isn't sorted. It does not matter where the swap happens,\n",
    "                # sorted will be false\n",
    "                is_sorted = False\n",
    "    return lst\n",
    "    \n",
    "print(bubble_sort(list_to_sort))"
   ]
  },
  {
   "cell_type": "markdown",
   "metadata": {},
   "source": [
    "##### Insertion Sort\n",
    "\n",
    "Worst Case: O(n^2) time - O(1)space"
   ]
  },
  {
   "cell_type": "code",
   "execution_count": 53,
   "metadata": {},
   "outputs": [
    {
     "name": "stdout",
     "output_type": "stream",
     "text": [
      "[4, 7, 10, 25, 30, 31, 34, 39, 43, 45]\n"
     ]
    }
   ],
   "source": [
    "def  insertion_sort(lst):\n",
    "    # Loop over the unordered section(start at 1 because 0-index is 'sorted')\n",
    "    for i in range(1,len(lst)):\n",
    "        # While we're not at teh fron of the list, and the element to the left is less than our element\n",
    "        while i > 0 and lst[i] < lst[i-1]:\n",
    "            # Swap our element to its left\n",
    "            lst[i], lst[i-1] = lst[i-l], lst[i]\n",
    "            # Move over one element to match our swap\n",
    "            i -= 1\n",
    "        return lst\n",
    "    \n",
    "print(insertion_sort(list_to_sort))"
   ]
  },
  {
   "cell_type": "markdown",
   "metadata": {},
   "source": [
    "## Merge Sort"
   ]
  },
  {
   "cell_type": "markdown",
   "metadata": {},
   "source": [
    "#### How it Works"
   ]
  },
  {
   "cell_type": "code",
   "execution_count": 61,
   "metadata": {},
   "outputs": [
    {
     "name": "stdout",
     "output_type": "stream",
     "text": [
      "[15, 12, 4, 14, 29, 42, 28, 8]\n"
     ]
    }
   ],
   "source": [
    "list_to_sort = [random.randint(1,50) for _ in range(8)]\n",
    "print(list_to_sort)"
   ]
  },
  {
   "cell_type": "code",
   "execution_count": 66,
   "metadata": {},
   "outputs": [
    {
     "name": "stdout",
     "output_type": "stream",
     "text": [
      "splitting... [4, 8, 12, 14, 15, 28, 29, 42]\n",
      "splitting... [4, 8, 12, 14]\n",
      "splitting... [4, 8]\n",
      "Merged... [4, 8]\n",
      "splitting... [12, 14]\n",
      "Merged... [12, 14]\n",
      "Merged... [4, 8, 12, 14]\n",
      "splitting... [15, 28, 29, 42]\n",
      "splitting... [15, 28]\n",
      "Merged... [15, 28]\n",
      "splitting... [29, 42]\n",
      "Merged... [29, 42]\n",
      "Merged... [15, 28, 29, 42]\n",
      "Merged... [4, 8, 12, 14, 15, 28, 29, 42]\n"
     ]
    },
    {
     "data": {
      "text/plain": [
       "[4, 8, 12, 14, 15, 28, 29, 42]"
      ]
     },
     "execution_count": 66,
     "metadata": {},
     "output_type": "execute_result"
    }
   ],
   "source": [
    "def merge_sort(lst):\n",
    "    #check to see if the list has more than one element\n",
    "    if len(lst) > 1:\n",
    "        #Find the midway point with floor division\n",
    "        mid = len(lst) // 2\n",
    "        print(\"splitting...\", lst)\n",
    "        left_half = lst[:mid] #sliced from beginning to midway\n",
    "        right_half = lst[mid:] #sliced from midway to end\n",
    "        \n",
    "        #Recursively call merge sort on the left half and then on the right half\n",
    "        merge_sort(left_half)\n",
    "        merge_sort(right_half)\n",
    "        \n",
    "        #start by setting pointers\n",
    "        l = 0\n",
    "        r = 0\n",
    "        m = 0\n",
    "        \n",
    "        #While there are still elements in both the left and the right\n",
    "        while l < len(left_half) and r < len(right_half):\n",
    "            #if the lowest value in the left half is less than the lowest value in the right half\n",
    "            if left_half[l] < right_half[r]:\n",
    "                #add the value at the left half to the main list\n",
    "                lst[m] = left_half[l]\n",
    "                #move the left pointer right by one element\n",
    "                l += 1\n",
    "            #if the lowest in the right half is less than or equal than the lowest in the left:\n",
    "            else:\n",
    "                #add the value at the right half of the main list\n",
    "                lst[m] = right_half[r]\n",
    "                #move the right pointer by one element\n",
    "                r += 1\n",
    "            #Either way, we always move the main pointer over by one\n",
    "            m += 1\n",
    "        #if the left half is exhausted first, fill the main with the rest of the right half\n",
    "        if l < len(left_half):\n",
    "            lst[m:] = left_half[l:]\n",
    "        if r < len(right_half):\n",
    "            lst[m:] = right_half[r:]\n",
    "        print('Merged...', lst)\n",
    "    return lst\n",
    "\n",
    "merge_sort(list_to_sort)"
   ]
  },
  {
   "cell_type": "markdown",
   "metadata": {},
   "source": [
    "# Binary Search\n",
    "\n",
    "The Binary Search algorithm works by finding the number in the middle of a given array and comparing it to the target. **Given that the array is sorted**\n",
    "\n",
    "* The worst case run time for this algorithm is `O(log(n))`"
   ]
  },
  {
   "cell_type": "code",
   "execution_count": 69,
   "metadata": {},
   "outputs": [
    {
     "name": "stdout",
     "output_type": "stream",
     "text": [
      "the index for 16 is 4\n"
     ]
    }
   ],
   "source": [
    "# Less == Left\n",
    "# Greater == Right\n",
    "# List of numbers MUST be sorted\n",
    "\n",
    "def binary_search(lst, target):\n",
    "    low = 0 # first element sets up the low\n",
    "    high = len(lst) - 1 # last element in the list sets up the high\n",
    "    while low <= high: # Keep checking as long as this is true\n",
    "        # find the midway point between the high and low\n",
    "        mid = (low + high) // 2\n",
    "        if target == lst[mid]:\n",
    "            # hooray we found our element!\n",
    "            return f\"the index for {target} is {mid}\"\n",
    "        # if the target is less than midpoint\n",
    "        elif target < lst[mid]:\n",
    "            # set up the high point to be one less than our mid point\n",
    "            high = mid - 1\n",
    "        # if our target is greater than the midpoitn\n",
    "        else:\n",
    "            # set teh low point to one greater than our midpoint\n",
    "            low = mid + 1\n",
    "    # if the low ever gets higher than the high, we know the element is not in teh list\n",
    "    return -1     \n",
    "\n",
    "list_to_sort = [63, 7, 78, 36, 16, 89, 61, 87, 49, 2]\n",
    "print(binary_search(list_to_sort, 16))"
   ]
  },
  {
   "cell_type": "markdown",
   "metadata": {},
   "source": [
    "# Exercises"
   ]
  },
  {
   "cell_type": "markdown",
   "metadata": {},
   "source": [
    "### Exercise #1 <br>\n",
    "<p>Reverse the list below in-place using an in-place algorithm.<br>For extra credit: Reverse the strings at the same time.</p>"
   ]
  },
  {
   "cell_type": "code",
   "execution_count": 75,
   "metadata": {},
   "outputs": [
    {
     "name": "stdout",
     "output_type": "stream",
     "text": [
      "['.', 'sentence', 'a', 'is', 'this']\n"
     ]
    }
   ],
   "source": [
    "words = ['this' , 'is', 'a', 'sentence', '.']\n",
    "# Output: ['.', 'sentence', 'a', 'is', 'this']\n",
    "# Bonus: ['.', 'ecentnes', 'a', 'si', 'siht']\n",
    "\n",
    "def swap(words, a, b, d, e):\n",
    "    words[a], words[b], words[d], words[e] = words[e], words[d], words[b], words[a]\n",
    "    return words\n",
    "\n",
    "print(swap(words, 0, 1, 3, 4))"
   ]
  },
  {
   "cell_type": "markdown",
   "metadata": {},
   "source": [
    "### Exercise #2 <br>\n",
    "<p>Create a function that counts how many distinct words are in the string below, then outputs a dictionary with the words as the key and the value as the amount of times that word appears in the string. Make sure you implement your own algorithm.\n",
    "Extra challenge: make this case insensistive and remove the punctuation</p>\n",
    "Example Output:<code>{'in': 1, 'computing': 1, 'a': 5, ...}</code>"
   ]
  },
  {
   "cell_type": "code",
   "execution_count": 93,
   "metadata": {},
   "outputs": [
    {
     "name": "stdout",
     "output_type": "stream",
     "text": [
      "{'In': 1, 'computing,': 1, 'a': 4, 'hash': 4, 'table': 2, 'map': 2, 'is': 1, 'data': 2, 'structure': 2, 'which': 2, 'implements': 1, 'an': 3, 'associative': 1, 'array': 2, 'abstract': 1, 'type,': 1, 'that': 1, 'can': 2, 'keys': 1, 'to': 2, 'values.': 1, 'A': 1, 'uses': 1, 'function': 1, 'compute': 1, 'index': 1, 'into': 1, 'of': 1, 'buckets': 1, 'or': 1, 'slots': 1, 'from': 1, 'the': 1, 'desired': 1, 'value': 1, 'be': 1, 'found': 1}\n"
     ]
    }
   ],
   "source": [
    "a_text = 'In computing, a hash table hash map is a data structure which implements an associative array abstract data type, a structure that can map keys to values. A hash table uses a hash function to compute an index into an array of buckets or slots from which the desired value can be found'\n",
    "\n",
    "def linear_search(sentence):\n",
    "    word_count = {}\n",
    "    split_sentence = sentence.split()\n",
    "    for word in split_sentence:\n",
    "        if word in word_count:\n",
    "            word_count[word] += 1\n",
    "        else:\n",
    "            word_count[word] = 1\n",
    "    return word_count\n",
    "            \n",
    "print(linear_search(a_text))\n",
    "            "
   ]
  },
  {
   "cell_type": "markdown",
   "metadata": {},
   "source": [
    "## Exercise #3\n",
    "\n",
    "Write a function implementing a Linear Search Algorithm. A linear search is a method for finding an element within a list. It sequentially checks each element of the list until a match is found or the whole list has been searched. If you do not find a match, return -1"
   ]
  },
  {
   "cell_type": "code",
   "execution_count": 102,
   "metadata": {},
   "outputs": [
    {
     "name": "stdout",
     "output_type": "stream",
     "text": [
      "3\n"
     ]
    }
   ],
   "source": [
    "nums_list = [10,23,45,70,11,15]\n",
    "target = 70\n",
    "\n",
    "# If number is not present return -1\n",
    "\n",
    "# Technically, a for loop would be a Linear Search. That is far too easy\n",
    "# But Recursive Search Algorithm is cooler and more effecient with an Auxiliary Space of 0(n)\n",
    "# https://www.geeksforgeeks.org/python-program-for-linear-search/\n",
    "\n",
    "def lin_rec_search(nums, idx, targ):\n",
    "    if idx == -1:\n",
    "        return -1\n",
    "    if nums[idx] == targ:\n",
    "        return idx\n",
    "    return lin_rec_search(nums, idx-1, targ)\n",
    "    \n",
    "print(lin_rec_search(nums_list, len(nums_list) - 1, target))"
   ]
  },
  {
   "cell_type": "code",
   "execution_count": null,
   "metadata": {},
   "outputs": [],
   "source": []
  }
 ],
 "metadata": {
  "kernelspec": {
   "display_name": "Python 3 (ipykernel)",
   "language": "python",
   "name": "python3"
  },
  "language_info": {
   "codemirror_mode": {
    "name": "ipython",
    "version": 3
   },
   "file_extension": ".py",
   "mimetype": "text/x-python",
   "name": "python",
   "nbconvert_exporter": "python",
   "pygments_lexer": "ipython3",
   "version": "3.9.13"
  }
 },
 "nbformat": 4,
 "nbformat_minor": 2
}
